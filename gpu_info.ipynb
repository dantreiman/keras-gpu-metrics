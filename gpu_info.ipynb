{
 "cells": [
  {
   "cell_type": "code",
   "execution_count": 4,
   "metadata": {
    "collapsed": true
   },
   "outputs": [],
   "source": [
    "from gpu_info.nvml import get_gpu_statuses"
   ]
  },
  {
   "cell_type": "code",
   "execution_count": 5,
   "outputs": [],
   "source": [
    "# Gets a list of GPUStatus objects for each available GPU device\n",
    "gpu_statuses = get_gpu_statuses()"
   ],
   "metadata": {
    "collapsed": false,
    "pycharm": {
     "name": "#%%\n"
    }
   }
  },
  {
   "cell_type": "code",
   "execution_count": 6,
   "outputs": [
    {
     "name": "stdout",
     "output_type": "stream",
     "text": [
      "Status of GPU 0 at timestamp 1673587592 (f2023-01-12 21:26:32)\n",
      "  Device Name: NVIDIA GeForce RTX 3090\n",
      "  PIDs:        [1840, 1832, 9692, 11020, 10996, 9068, 15040, 15600, 18012, 18196, 20596, 20564, 16932, 23540, 11176, 11108, 9448, 27108, 8484, 17924, 9220, 5444, 12692, 25432, 30520]\n",
      "  Utilization: 2%\n",
      "  Clock Speed: 210 MHz\n",
      "  Temperature: 34 C\n",
      "  Memory Free: 891281408 bytes\n",
      "  Memory Used: 24878522368 bytes\n",
      "  Fan Speed:   0%\n",
      "  Power Usage: 21824 mW\n"
     ]
    }
   ],
   "source": [
    "# Prints the status of GPU 0\n",
    "if len(gpu_statuses) > 0:\n",
    "    print(gpu_statuses[0])\n",
    "else:\n",
    "    print('No compatible GPU detected')"
   ],
   "metadata": {
    "collapsed": false,
    "pycharm": {
     "name": "#%%\n"
    }
   }
  },
  {
   "cell_type": "code",
   "execution_count": null,
   "outputs": [],
   "source": [],
   "metadata": {
    "collapsed": false,
    "pycharm": {
     "name": "#%%\n"
    }
   }
  }
 ],
 "metadata": {
  "kernelspec": {
   "display_name": "Python 3",
   "language": "python",
   "name": "python3"
  },
  "language_info": {
   "codemirror_mode": {
    "name": "ipython",
    "version": 2
   },
   "file_extension": ".py",
   "mimetype": "text/x-python",
   "name": "python",
   "nbconvert_exporter": "python",
   "pygments_lexer": "ipython2",
   "version": "2.7.6"
  }
 },
 "nbformat": 4,
 "nbformat_minor": 0
}