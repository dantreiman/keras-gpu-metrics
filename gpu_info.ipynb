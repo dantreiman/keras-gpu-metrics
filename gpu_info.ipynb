{
 "cells": [
  {
   "cell_type": "code",
   "execution_count": null,
   "outputs": [],
   "source": [
    "!pip install keras_gpu_metrics"
   ],
   "metadata": {
    "collapsed": false,
    "pycharm": {
     "name": "#%%\n"
    }
   }
  },
  {
   "cell_type": "code",
   "execution_count": 1,
   "outputs": [],
   "source": [
    "from keras_gpu_metrics import get_gpu_statuses"
   ],
   "metadata": {
    "collapsed": false,
    "pycharm": {
     "name": "#%%\n"
    }
   }
  },
  {
   "cell_type": "code",
   "execution_count": 2,
   "outputs": [],
   "source": [
    "# Gets a list of GPUStatus objects for each available GPU device\n",
    "gpu_statuses = get_gpu_statuses()"
   ],
   "metadata": {
    "collapsed": false,
    "pycharm": {
     "name": "#%%\n"
    }
   }
  },
  {
   "cell_type": "code",
   "execution_count": 3,
   "outputs": [
    {
     "name": "stdout",
     "output_type": "stream",
     "text": [
      "Status of GPU 0 at timestamp 1673629208 (2023-01-13 09:00:08)\n",
      "Device Name: NVIDIA GeForce RTX 3090\n",
      "PIDs:        [2000, 1992, 2744, 8172, 10736, 9500, 12460, 12436, 4040, 14620, 9040, 14908, 16484, 16624, 18004, 18896, 19492, 19776, 23564, 25452, 24976]\n",
      "Utilization: 5%\n",
      "Clock Speed: 210 MHz\n",
      "Temperature: 30 C\n",
      "Memory Free: 24931926016 bytes\n",
      "Memory Used: 837877760 bytes\n",
      "Fan Speed:   0%\n",
      "Power Usage: 22118 mW\n"
     ]
    }
   ],
   "source": [
    "# Prints the status of GPU 0\n",
    "if len(gpu_statuses) > 0:\n",
    "    print(gpu_statuses[0])\n",
    "else:\n",
    "    print('No compatible GPU detected')"
   ],
   "metadata": {
    "collapsed": false,
    "pycharm": {
     "name": "#%%\n"
    }
   }
  },
  {
   "cell_type": "code",
   "execution_count": null,
   "outputs": [],
   "source": [],
   "metadata": {
    "collapsed": false,
    "pycharm": {
     "name": "#%%\n"
    }
   }
  }
 ],
 "metadata": {
  "kernelspec": {
   "display_name": "Python 3",
   "language": "python",
   "name": "python3"
  },
  "language_info": {
   "codemirror_mode": {
    "name": "ipython",
    "version": 2
   },
   "file_extension": ".py",
   "mimetype": "text/x-python",
   "name": "python",
   "nbconvert_exporter": "python",
   "pygments_lexer": "ipython2",
   "version": "2.7.6"
  }
 },
 "nbformat": 4,
 "nbformat_minor": 0
}