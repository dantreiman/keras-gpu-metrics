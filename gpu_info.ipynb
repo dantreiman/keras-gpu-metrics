{
 "cells": [
  {
   "cell_type": "code",
   "execution_count": null,
   "metadata": {
    "collapsed": false,
    "jupyter": {
     "outputs_hidden": false
    },
    "pycharm": {
     "name": "#%%\n"
    }
   },
   "outputs": [],
   "source": [
    "!pip install keras_gpu_metrics"
   ]
  },
  {
   "cell_type": "code",
   "execution_count": 1,
   "metadata": {
    "collapsed": false,
    "jupyter": {
     "outputs_hidden": false
    },
    "pycharm": {
     "name": "#%%\n"
    }
   },
   "outputs": [],
   "source": [
    "from keras_gpu_metrics import get_gpu_statuses"
   ]
  },
  {
   "cell_type": "code",
   "execution_count": 2,
   "metadata": {
    "collapsed": false,
    "jupyter": {
     "outputs_hidden": false
    },
    "pycharm": {
     "name": "#%%\n"
    }
   },
   "outputs": [],
   "source": [
    "# Gets a list of GPUStatus objects for each available GPU device\n",
    "gpu_statuses = get_gpu_statuses()"
   ]
  },
  {
   "cell_type": "code",
   "execution_count": 3,
   "metadata": {
    "collapsed": false,
    "jupyter": {
     "outputs_hidden": false
    },
    "pycharm": {
     "name": "#%%\n"
    }
   },
   "outputs": [
    {
     "name": "stdout",
     "output_type": "stream",
     "text": [
      "Status of GPU 0 at timestamp 1673842183 (2023-01-16 04:09:43)\n",
      "Device Name: Tesla V100-SXM2-16GB\n",
      "PIDs:        unsupported\n",
      "Utilization: 0%\n",
      "Clock Speed: 1530 MHz\n",
      "Temperature: 45 C\n",
      "Memory Free: 16945381376 bytes\n",
      "Memory Used: 131072 bytes\n",
      "Fan Speed:   unsupported\n",
      "Power Usage: 58231 mW\n"
     ]
    }
   ],
   "source": [
    "# Prints the status of GPU 0\n",
    "if len(gpu_statuses) > 0:\n",
    "    print(gpu_statuses[0])\n",
    "else:\n",
    "    print('No compatible GPU detected')"
   ]
  },
  {
   "cell_type": "code",
   "execution_count": null,
   "metadata": {
    "collapsed": false,
    "jupyter": {
     "outputs_hidden": false
    },
    "pycharm": {
     "name": "#%%\n"
    }
   },
   "outputs": [],
   "source": []
  }
 ],
 "metadata": {
  "kernelspec": {
   "display_name": "Python 3",
   "language": "python",
   "name": "python3"
  },
  "language_info": {
   "codemirror_mode": {
    "name": "ipython",
    "version": 3
   },
   "file_extension": ".py",
   "mimetype": "text/x-python",
   "name": "python",
   "nbconvert_exporter": "python",
   "pygments_lexer": "ipython3",
   "version": "3.7.9"
  }
 },
 "nbformat": 4,
 "nbformat_minor": 4
}