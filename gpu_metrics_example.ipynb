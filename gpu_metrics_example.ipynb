{
 "cells": [
  {
   "cell_type": "code",
   "execution_count": 8,
   "metadata": {
    "collapsed": true
   },
   "outputs": [],
   "source": [
    "import matplotlib.pyplot as plt\n",
    "import tensorflow as tf\n",
    "import tensorflow_datasets as tfds\n",
    "\n",
    "import keras_gpu_metrics"
   ]
  },
  {
   "cell_type": "code",
   "execution_count": null,
   "outputs": [
    {
     "name": "stdout",
     "output_type": "stream",
     "text": [
      "Downloading and preparing dataset Unknown size (download: Unknown size, generated: Unknown size, total: Unknown size) to C:\\Users\\Daniel\\tensorflow_datasets\\caltech_birds2011\\0.1.1...\n"
     ]
    },
    {
     "data": {
      "text/plain": "Dl Completed...: 0 url [00:00, ? url/s]",
      "application/vnd.jupyter.widget-view+json": {
       "version_major": 2,
       "version_minor": 0,
       "model_id": "95e62b2382624178998f61e9e6fb0b06"
      }
     },
     "metadata": {},
     "output_type": "display_data"
    },
    {
     "data": {
      "text/plain": "Dl Size...: 0 MiB [00:00, ? MiB/s]",
      "application/vnd.jupyter.widget-view+json": {
       "version_major": 2,
       "version_minor": 0,
       "model_id": "2aa60dc5b66a4cb9b6cb6aee2c2aa69a"
      }
     },
     "metadata": {},
     "output_type": "display_data"
    }
   ],
   "source": [
    "(training_set, test_set), ds_info = tfds.load(\n",
    "    'caltech_birds2011',\n",
    "    split=['train', 'test'],\n",
    "    shuffle_files=True,\n",
    "    as_supervised=True,\n",
    "    with_info=True,\n",
    ")\n",
    "\n",
    "\n",
    "# def normalize_img(image, label):\n",
    "#     \"\"\"Normalizes images: `uint8` -> `float32`.\"\"\"\n",
    "#     return tf.cast(image, tf.float32) / 255., label\n",
    "#\n",
    "#\n",
    "# mnist_train = mnist_train.map(normalize_img, num_parallel_calls=tf.data.AUTOTUNE).cache()\n",
    "# mnist_train = mnist_train.shuffle(ds_info.splits['train'].num_examples)\n",
    "# mnist_train = mnist_train.batch(128)\n",
    "# mnist_train = mnist_train.prefetch(tf.data.AUTOTUNE)\n",
    "#\n",
    "# mnist_test = mnist_test.map(\n",
    "#     normalize_img, num_parallel_calls=tf.data.AUTOTUNE)\n",
    "# mnist_test = mnist_test.batch(128)\n",
    "# mnist_test = mnist_test.cache()\n",
    "# mnist_test = mnist_test.prefetch(tf.data.AUTOTUNE)"
   ],
   "metadata": {
    "collapsed": false,
    "pycharm": {
     "name": "#%%\n",
     "is_executing": true
    }
   }
  },
  {
   "cell_type": "code",
   "execution_count": null,
   "outputs": [],
   "source": [
    "# Visualizes an example from the dataset\n",
    "for input, output in training_set:\n",
    "    break\n",
    "\n",
    "#plt.imshow(input[0]);"
   ],
   "metadata": {
    "collapsed": false,
    "pycharm": {
     "name": "#%%\n",
     "is_executing": true
    }
   }
  },
  {
   "cell_type": "code",
   "execution_count": null,
   "outputs": [],
   "source": [
    "input.shape"
   ],
   "metadata": {
    "collapsed": false,
    "pycharm": {
     "name": "#%%\n",
     "is_executing": true
    }
   }
  },
  {
   "cell_type": "code",
   "execution_count": 3,
   "outputs": [],
   "source": [
    "model = tf.keras.models.Sequential([\n",
    "  tf.keras.layers.Flatten(input_shape=(28, 28)),\n",
    "  tf.keras.layers.Dense(128, activation='relu'),\n",
    "  tf.keras.layers.Dense(10)\n",
    "])"
   ],
   "metadata": {
    "collapsed": false,
    "pycharm": {
     "name": "#%%\n"
    }
   }
  },
  {
   "cell_type": "code",
   "execution_count": 4,
   "outputs": [],
   "source": [
    "metrics = [\n",
    "    tf.keras.metrics.SparseCategoricalAccuracy(),\n",
    "    keras_gpu_metrics.gpu_utilization_metric(0),  # Assuming we have only one GPU and we are training on GPU 0\n",
    "    keras_gpu_metrics.gpu_clock_speed_metric(0),\n",
    "    keras_gpu_metrics.gpu_temperature_metric(0),\n",
    "    keras_gpu_metrics.gpu_memory_free_metric(0),\n",
    "    keras_gpu_metrics.gpu_memory_used_metric(0),\n",
    "    keras_gpu_metrics.gpu_fan_speed_metric(0),\n",
    "    keras_gpu_metrics.gpu_power_usage_metric(0),\n",
    "]\n",
    "\n",
    "model.compile(\n",
    "    optimizer=tf.keras.optimizers.Adam(0.001),\n",
    "    loss=tf.keras.losses.SparseCategoricalCrossentropy(from_logits=True),\n",
    "    metrics=metrics\n",
    ")"
   ],
   "metadata": {
    "collapsed": false,
    "pycharm": {
     "name": "#%%\n"
    }
   }
  },
  {
   "cell_type": "code",
   "execution_count": 5,
   "outputs": [
    {
     "name": "stdout",
     "output_type": "stream",
     "text": [
      "Epoch 1/5\n",
      "469/469 [==============================] - 5s 4ms/step - loss: 0.3612 - sparse_categorical_accuracy: 0.9003 - gpu_0_utilization: 7.0000 - gpu_0_clock_mhz: 255.0000 - gpu_0_temperature: 32.0000 - gpu_0_memory_free: 1880112384.0000 - gpu_0_memory_used: 23889704960.0000 - gpu_0_fan_speed: 0.0000e+00 - gpu_0_power_usage: 40284.0000 - val_loss: 0.1913 - val_sparse_categorical_accuracy: 0.9433 - val_gpu_0_utilization: 24.0000 - val_gpu_0_clock_mhz: 585.0000 - val_gpu_0_temperature: 31.0000 - val_gpu_0_memory_free: 1594902784.0000 - val_gpu_0_memory_used: 24174911488.0000 - val_gpu_0_fan_speed: 0.0000e+00 - val_gpu_0_power_usage: 39899.0000\n",
      "Epoch 2/5\n",
      "469/469 [==============================] - 1s 3ms/step - loss: 0.1616 - sparse_categorical_accuracy: 0.9535 - gpu_0_utilization: 7.0000 - gpu_0_clock_mhz: 255.0000 - gpu_0_temperature: 32.0000 - gpu_0_memory_free: 1880112384.0000 - gpu_0_memory_used: 23889704960.0000 - gpu_0_fan_speed: 0.0000e+00 - gpu_0_power_usage: 40284.0000 - val_loss: 0.1323 - val_sparse_categorical_accuracy: 0.9607 - val_gpu_0_utilization: 24.0000 - val_gpu_0_clock_mhz: 585.0000 - val_gpu_0_temperature: 31.0000 - val_gpu_0_memory_free: 1594902784.0000 - val_gpu_0_memory_used: 24174911488.0000 - val_gpu_0_fan_speed: 0.0000e+00 - val_gpu_0_power_usage: 39899.0000\n",
      "Epoch 3/5\n",
      "469/469 [==============================] - 1s 3ms/step - loss: 0.1127 - sparse_categorical_accuracy: 0.9677 - gpu_0_utilization: 7.0000 - gpu_0_clock_mhz: 255.0000 - gpu_0_temperature: 32.0000 - gpu_0_memory_free: 1880112384.0000 - gpu_0_memory_used: 23889704960.0000 - gpu_0_fan_speed: 0.0000e+00 - gpu_0_power_usage: 40284.0000 - val_loss: 0.1060 - val_sparse_categorical_accuracy: 0.9685 - val_gpu_0_utilization: 24.0000 - val_gpu_0_clock_mhz: 585.0000 - val_gpu_0_temperature: 31.0000 - val_gpu_0_memory_free: 1594902784.0000 - val_gpu_0_memory_used: 24174911488.0000 - val_gpu_0_fan_speed: 0.0000e+00 - val_gpu_0_power_usage: 39899.0000\n",
      "Epoch 4/5\n",
      "469/469 [==============================] - 1s 3ms/step - loss: 0.0873 - sparse_categorical_accuracy: 0.9741 - gpu_0_utilization: 7.0000 - gpu_0_clock_mhz: 255.0000 - gpu_0_temperature: 32.0000 - gpu_0_memory_free: 1880112384.0000 - gpu_0_memory_used: 23889704960.0000 - gpu_0_fan_speed: 0.0000e+00 - gpu_0_power_usage: 40284.0000 - val_loss: 0.0922 - val_sparse_categorical_accuracy: 0.9717 - val_gpu_0_utilization: 24.0000 - val_gpu_0_clock_mhz: 585.0000 - val_gpu_0_temperature: 31.0000 - val_gpu_0_memory_free: 1594902784.0000 - val_gpu_0_memory_used: 24174911488.0000 - val_gpu_0_fan_speed: 0.0000e+00 - val_gpu_0_power_usage: 39899.0000\n",
      "Epoch 5/5\n",
      "469/469 [==============================] - 1s 3ms/step - loss: 0.0694 - sparse_categorical_accuracy: 0.9796 - gpu_0_utilization: 7.0000 - gpu_0_clock_mhz: 255.0000 - gpu_0_temperature: 32.0000 - gpu_0_memory_free: 1880112384.0000 - gpu_0_memory_used: 23889704960.0000 - gpu_0_fan_speed: 0.0000e+00 - gpu_0_power_usage: 40284.0000 - val_loss: 0.0822 - val_sparse_categorical_accuracy: 0.9754 - val_gpu_0_utilization: 24.0000 - val_gpu_0_clock_mhz: 585.0000 - val_gpu_0_temperature: 31.0000 - val_gpu_0_memory_free: 1594902784.0000 - val_gpu_0_memory_used: 24174911488.0000 - val_gpu_0_fan_speed: 0.0000e+00 - val_gpu_0_power_usage: 39899.0000\n"
     ]
    }
   ],
   "source": [
    "history = model.fit(\n",
    "    mnist_train,\n",
    "    epochs=5,\n",
    "    validation_data=mnist_test,\n",
    ")"
   ],
   "metadata": {
    "collapsed": false,
    "pycharm": {
     "name": "#%%\n"
    }
   }
  },
  {
   "cell_type": "code",
   "execution_count": 7,
   "outputs": [
    {
     "data": {
      "text/plain": "<Figure size 1200x800 with 4 Axes>",
      "image/png": "[encoded data removed]"
     },
     "metadata": {},
     "output_type": "display_data"
    }
   ],
   "source": [
    "loss_history = history.history\n",
    "\n",
    "fig, ax = plt.subplots(2, 2, figsize=(12, 8))\n",
    "\n",
    "ax[0][0].set_title('Train')\n",
    "ax[0][1].set_title('Validation')\n",
    "\n",
    "ax[0][0].plot(loss_history['loss'], label='loss')\n",
    "ax[0][0].plot(loss_history['sparse_categorical_accuracy'], label='accuracy')\n",
    "ax[0][1].plot(loss_history['val_loss'], label='loss')\n",
    "ax[0][1].plot(loss_history['val_sparse_categorical_accuracy'], label='accuracy')\n",
    "\n",
    "ax[1][0].plot(loss_history['gpu_0_utilization'], label='gpu_0_utilization %')\n",
    "ax[1][1].plot(loss_history['val_gpu_0_utilization'], label='gpu_0_utilization %')\n",
    "ax[1][0].plot(loss_history['gpu_0_temperature'], label='gpu_0_temperature C')\n",
    "ax[1][1].plot(loss_history['val_gpu_0_temperature'], label='gpu_0_temperature C')\n",
    "ax[1][0].set_ylim(0, 100)\n",
    "ax[1][1].set_ylim(0, 100)\n",
    "\n",
    "plt.legend(loc='upper right', bbox_to_anchor=(1.6, 1.0))\n",
    "plt.subplots_adjust(right=0.8)\n",
    "plt.show();"
   ],
   "metadata": {
    "collapsed": false,
    "pycharm": {
     "name": "#%%\n"
    }
   }
  },
  {
   "cell_type": "code",
   "execution_count": null,
   "outputs": [],
   "source": [],
   "metadata": {
    "collapsed": false,
    "pycharm": {
     "name": "#%%\n"
    }
   }
  },
  {
   "cell_type": "code",
   "execution_count": null,
   "outputs": [],
   "source": [],
   "metadata": {
    "collapsed": false,
    "pycharm": {
     "name": "#%%\n"
    }
   }
  }
 ],
 "metadata": {
  "kernelspec": {
   "display_name": "Python 3",
   "language": "python",
   "name": "python3"
  },
  "language_info": {
   "codemirror_mode": {
    "name": "ipython",
    "version": 2
   },
   "file_extension": ".py",
   "mimetype": "text/x-python",
   "name": "python",
   "nbconvert_exporter": "python",
   "pygments_lexer": "ipython2",
   "version": "2.7.6"
  }
 },
 "nbformat": 4,
 "nbformat_minor": 0
}